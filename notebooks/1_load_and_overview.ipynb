{
 "cells": [
  {
   "cell_type": "markdown",
   "id": "48ad936d",
   "metadata": {},
   "source": [
    "# 1. Load Dataset and Quick Overview"
   ]
  },
  {
   "cell_type": "code",
   "execution_count": 3,
   "id": "90559020",
   "metadata": {},
   "outputs": [
    {
     "name": "stdout",
     "output_type": "stream",
     "text": [
      "<class 'pandas.core.frame.DataFrame'>\n",
      "RangeIndex: 294478 entries, 0 to 294477\n",
      "Data columns (total 5 columns):\n",
      " #   Column        Non-Null Count   Dtype \n",
      "---  ------        --------------   ----- \n",
      " 0   user_id       294478 non-null  int64 \n",
      " 1   timestamp     294478 non-null  object\n",
      " 2   group         294478 non-null  object\n",
      " 3   landing_page  294478 non-null  object\n",
      " 4   converted     294478 non-null  int64 \n",
      "dtypes: int64(2), object(3)\n",
      "memory usage: 11.2+ MB\n"
     ]
    },
    {
     "data": {
      "text/html": [
       "<div>\n",
       "<style scoped>\n",
       "    .dataframe tbody tr th:only-of-type {\n",
       "        vertical-align: middle;\n",
       "    }\n",
       "\n",
       "    .dataframe tbody tr th {\n",
       "        vertical-align: top;\n",
       "    }\n",
       "\n",
       "    .dataframe thead th {\n",
       "        text-align: right;\n",
       "    }\n",
       "</style>\n",
       "<table border=\"1\" class=\"dataframe\">\n",
       "  <thead>\n",
       "    <tr style=\"text-align: right;\">\n",
       "      <th></th>\n",
       "      <th>user_id</th>\n",
       "      <th>timestamp</th>\n",
       "      <th>group</th>\n",
       "      <th>landing_page</th>\n",
       "      <th>converted</th>\n",
       "    </tr>\n",
       "  </thead>\n",
       "  <tbody>\n",
       "    <tr>\n",
       "      <th>0</th>\n",
       "      <td>851104</td>\n",
       "      <td>2017-01-21 22:11:48.556739</td>\n",
       "      <td>control</td>\n",
       "      <td>old_page</td>\n",
       "      <td>0</td>\n",
       "    </tr>\n",
       "    <tr>\n",
       "      <th>1</th>\n",
       "      <td>804228</td>\n",
       "      <td>2017-01-12 08:01:45.159739</td>\n",
       "      <td>control</td>\n",
       "      <td>old_page</td>\n",
       "      <td>0</td>\n",
       "    </tr>\n",
       "    <tr>\n",
       "      <th>2</th>\n",
       "      <td>661590</td>\n",
       "      <td>2017-01-11 16:55:06.154213</td>\n",
       "      <td>treatment</td>\n",
       "      <td>new_page</td>\n",
       "      <td>0</td>\n",
       "    </tr>\n",
       "    <tr>\n",
       "      <th>3</th>\n",
       "      <td>853541</td>\n",
       "      <td>2017-01-08 18:28:03.143765</td>\n",
       "      <td>treatment</td>\n",
       "      <td>new_page</td>\n",
       "      <td>0</td>\n",
       "    </tr>\n",
       "    <tr>\n",
       "      <th>4</th>\n",
       "      <td>864975</td>\n",
       "      <td>2017-01-21 01:52:26.210827</td>\n",
       "      <td>control</td>\n",
       "      <td>old_page</td>\n",
       "      <td>1</td>\n",
       "    </tr>\n",
       "  </tbody>\n",
       "</table>\n",
       "</div>"
      ],
      "text/plain": [
       "   user_id                   timestamp      group landing_page  converted\n",
       "0   851104  2017-01-21 22:11:48.556739    control     old_page          0\n",
       "1   804228  2017-01-12 08:01:45.159739    control     old_page          0\n",
       "2   661590  2017-01-11 16:55:06.154213  treatment     new_page          0\n",
       "3   853541  2017-01-08 18:28:03.143765  treatment     new_page          0\n",
       "4   864975  2017-01-21 01:52:26.210827    control     old_page          1"
      ]
     },
     "execution_count": 3,
     "metadata": {},
     "output_type": "execute_result"
    }
   ],
   "source": [
    "# import libraries\n",
    "import pandas as pd\n",
    "import numpy as np\n",
    "\n",
    "# load dataset\n",
    "df = pd.read_csv('../data/ab_data.csv')\n",
    "\n",
    "# Quick structure check\n",
    "df.info()\n",
    "\n",
    "# Display first few rows\n",
    "df.head()"
   ]
  },
  {
   "cell_type": "code",
   "execution_count": 4,
   "id": "a0d4ebd7",
   "metadata": {},
   "outputs": [
    {
     "name": "stdout",
     "output_type": "stream",
     "text": [
      "Number of rows: 294478\n",
      "Unique users: 290584\n",
      "Duplicated users: 3894\n",
      "group\n",
      "treatment    147276\n",
      "control      147202\n",
      "Name: count, dtype: int64\n",
      "converted\n",
      "0    259241\n",
      "1     35237\n",
      "Name: count, dtype: int64\n"
     ]
    }
   ],
   "source": [
    "# Basic sanity check\n",
    "print(\"Number of rows:\", len(df))\n",
    "print(\"Unique users:\", df['user_id'].nunique())\n",
    "print(\"Duplicated users:\", df['user_id'].duplicated().sum())\n",
    "\n",
    "# Basic group and conversion counts\n",
    "print(df['group'].value_counts())\n",
    "print(df['converted'].value_counts())"
   ]
  },
  {
   "cell_type": "markdown",
   "id": "0541215b",
   "metadata": {},
   "source": [
    "Groups assignment is **balanced** (`treatment` = 147276, `control` = 147202).\n",
    "\n",
    "We have **3894** duplicated users, they should be deleted."
   ]
  },
  {
   "cell_type": "markdown",
   "id": "bb0b17b0",
   "metadata": {},
   "source": [
    "# Initial cleaning\n",
    "\n",
    "- removing duplicate `user_id`s\n",
    "- dropping rows with mismatching `group`/`landing_page` pairs ('control' = 'old_page', 'treatment' = 'new_page')"
   ]
  },
  {
   "cell_type": "code",
   "execution_count": 16,
   "id": "296792dd",
   "metadata": {},
   "outputs": [
    {
     "name": "stdout",
     "output_type": "stream",
     "text": [
      "Number of mismatched rows: 1949\n"
     ]
    },
    {
     "data": {
      "text/plain": [
       "group      landing_page\n",
       "control    old_page        144319\n",
       "treatment  new_page        144316\n",
       "Name: count, dtype: int64"
      ]
     },
     "execution_count": 16,
     "metadata": {},
     "output_type": "execute_result"
    }
   ],
   "source": [
    "# removing duplicated\n",
    "# sorting by timestamp to leave only first occurrences\n",
    "df = df.sort_values(by='timestamp')\n",
    "\n",
    "# dropping duplicates\n",
    "df = df.drop_duplicates(subset=['user_id'], keep='first')\n",
    "\n",
    "df = df.sort_values(by='timestamp', ascending=False)\n",
    "\n",
    "# dropping rows with mismatching group/landing_page pairs\n",
    "# check mismatched combinations\n",
    "mismatched = df.query(\n",
    "    \"(group == 'treatment' and landing_page != 'new_page') \"\n",
    "    \"or (group == 'control' and landing_page != 'old_page')\"\n",
    ")\n",
    "\n",
    "print(\"Number of mismatched rows:\", len(mismatched))\n",
    "\n",
    "# drop mismatches\n",
    "df = df.drop(mismatched.index)\n",
    "\n",
    "# double-check that all combinations are now valid\n",
    "df.groupby('group')['landing_page'].value_counts()"
   ]
  }
 ],
 "metadata": {
  "kernelspec": {
   "display_name": "python_course",
   "language": "python",
   "name": "python3"
  },
  "language_info": {
   "codemirror_mode": {
    "name": "ipython",
    "version": 3
   },
   "file_extension": ".py",
   "mimetype": "text/x-python",
   "name": "python",
   "nbconvert_exporter": "python",
   "pygments_lexer": "ipython3",
   "version": "3.13.5"
  }
 },
 "nbformat": 4,
 "nbformat_minor": 5
}
