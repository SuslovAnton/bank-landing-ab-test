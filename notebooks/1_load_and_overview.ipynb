{
 "cells": [
  {
   "cell_type": "markdown",
   "id": "48ad936d",
   "metadata": {},
   "source": [
    "# 1. Load Dataset and Quick Overview"
   ]
  },
  {
   "cell_type": "code",
   "execution_count": 1,
   "id": "90559020",
   "metadata": {},
   "outputs": [
    {
     "name": "stdout",
     "output_type": "stream",
     "text": [
      "<class 'pandas.core.frame.DataFrame'>\n",
      "RangeIndex: 294478 entries, 0 to 294477\n",
      "Data columns (total 5 columns):\n",
      " #   Column        Non-Null Count   Dtype \n",
      "---  ------        --------------   ----- \n",
      " 0   user_id       294478 non-null  int64 \n",
      " 1   timestamp     294478 non-null  object\n",
      " 2   group         294478 non-null  object\n",
      " 3   landing_page  294478 non-null  object\n",
      " 4   converted     294478 non-null  int64 \n",
      "dtypes: int64(2), object(3)\n",
      "memory usage: 11.2+ MB\n"
     ]
    },
    {
     "data": {
      "text/html": [
       "<div>\n",
       "<style scoped>\n",
       "    .dataframe tbody tr th:only-of-type {\n",
       "        vertical-align: middle;\n",
       "    }\n",
       "\n",
       "    .dataframe tbody tr th {\n",
       "        vertical-align: top;\n",
       "    }\n",
       "\n",
       "    .dataframe thead th {\n",
       "        text-align: right;\n",
       "    }\n",
       "</style>\n",
       "<table border=\"1\" class=\"dataframe\">\n",
       "  <thead>\n",
       "    <tr style=\"text-align: right;\">\n",
       "      <th></th>\n",
       "      <th>user_id</th>\n",
       "      <th>timestamp</th>\n",
       "      <th>group</th>\n",
       "      <th>landing_page</th>\n",
       "      <th>converted</th>\n",
       "    </tr>\n",
       "  </thead>\n",
       "  <tbody>\n",
       "    <tr>\n",
       "      <th>0</th>\n",
       "      <td>851104</td>\n",
       "      <td>2017-01-21 22:11:48.556739</td>\n",
       "      <td>control</td>\n",
       "      <td>old_page</td>\n",
       "      <td>0</td>\n",
       "    </tr>\n",
       "    <tr>\n",
       "      <th>1</th>\n",
       "      <td>804228</td>\n",
       "      <td>2017-01-12 08:01:45.159739</td>\n",
       "      <td>control</td>\n",
       "      <td>old_page</td>\n",
       "      <td>0</td>\n",
       "    </tr>\n",
       "    <tr>\n",
       "      <th>2</th>\n",
       "      <td>661590</td>\n",
       "      <td>2017-01-11 16:55:06.154213</td>\n",
       "      <td>treatment</td>\n",
       "      <td>new_page</td>\n",
       "      <td>0</td>\n",
       "    </tr>\n",
       "    <tr>\n",
       "      <th>3</th>\n",
       "      <td>853541</td>\n",
       "      <td>2017-01-08 18:28:03.143765</td>\n",
       "      <td>treatment</td>\n",
       "      <td>new_page</td>\n",
       "      <td>0</td>\n",
       "    </tr>\n",
       "    <tr>\n",
       "      <th>4</th>\n",
       "      <td>864975</td>\n",
       "      <td>2017-01-21 01:52:26.210827</td>\n",
       "      <td>control</td>\n",
       "      <td>old_page</td>\n",
       "      <td>1</td>\n",
       "    </tr>\n",
       "  </tbody>\n",
       "</table>\n",
       "</div>"
      ],
      "text/plain": [
       "   user_id                   timestamp      group landing_page  converted\n",
       "0   851104  2017-01-21 22:11:48.556739    control     old_page          0\n",
       "1   804228  2017-01-12 08:01:45.159739    control     old_page          0\n",
       "2   661590  2017-01-11 16:55:06.154213  treatment     new_page          0\n",
       "3   853541  2017-01-08 18:28:03.143765  treatment     new_page          0\n",
       "4   864975  2017-01-21 01:52:26.210827    control     old_page          1"
      ]
     },
     "execution_count": 1,
     "metadata": {},
     "output_type": "execute_result"
    }
   ],
   "source": [
    "# import libraries\n",
    "import pandas as pd\n",
    "import numpy as np\n",
    "\n",
    "# load dataset\n",
    "df = pd.read_csv('../data/ab_data.csv')\n",
    "\n",
    "# Quick structure check\n",
    "df.info()\n",
    "\n",
    "# Display first few rows\n",
    "df.head()"
   ]
  },
  {
   "cell_type": "code",
   "execution_count": 2,
   "id": "a0d4ebd7",
   "metadata": {},
   "outputs": [
    {
     "name": "stdout",
     "output_type": "stream",
     "text": [
      "Number of rows: 294478\n",
      "Unique users: 290584\n",
      "Duplicated users: 3894\n",
      "group\n",
      "treatment    147276\n",
      "control      147202\n",
      "Name: count, dtype: int64\n",
      "converted\n",
      "0    259241\n",
      "1     35237\n",
      "Name: count, dtype: int64\n"
     ]
    }
   ],
   "source": [
    "# Basic sanity check\n",
    "print(\"Number of rows:\", len(df))\n",
    "print(\"Unique users:\", df['user_id'].nunique())\n",
    "print(\"Duplicated users:\", df['user_id'].duplicated().sum())\n",
    "\n",
    "# Basic group and conversion counts\n",
    "print(df['group'].value_counts())\n",
    "print(df['converted'].value_counts())"
   ]
  },
  {
   "cell_type": "markdown",
   "id": "0541215b",
   "metadata": {},
   "source": [
    "Groups assignment is **balanced** (`treatment` = 147276, `control` = 147202).\n",
    "\n",
    "We have **3894** duplicated users, they should be deleted."
   ]
  },
  {
   "cell_type": "markdown",
   "id": "bb0b17b0",
   "metadata": {},
   "source": [
    "# 2. Initial cleaning\n",
    "\n",
    "- removing duplicate `user_id`s\n",
    "- dropping rows with mismatching `group`/`landing_page` pairs ('control' = 'old_page', 'treatment' = 'new_page')"
   ]
  },
  {
   "cell_type": "code",
   "execution_count": 3,
   "id": "296792dd",
   "metadata": {},
   "outputs": [
    {
     "name": "stdout",
     "output_type": "stream",
     "text": [
      "Number of mismatched rows: 1949\n"
     ]
    },
    {
     "data": {
      "text/plain": [
       "group      landing_page\n",
       "control    old_page        144319\n",
       "treatment  new_page        144316\n",
       "Name: count, dtype: int64"
      ]
     },
     "execution_count": 3,
     "metadata": {},
     "output_type": "execute_result"
    }
   ],
   "source": [
    "# removing duplicated\n",
    "# sorting by timestamp to leave only first occurrences\n",
    "df = df.sort_values(by='timestamp')\n",
    "\n",
    "# dropping duplicates\n",
    "df = df.drop_duplicates(subset=['user_id'], keep='first')\n",
    "\n",
    "df = df.sort_values(by='timestamp', ascending=False)\n",
    "\n",
    "# dropping rows with mismatching group/landing_page pairs\n",
    "# check mismatched combinations\n",
    "mismatched = df.query(\n",
    "    \"(group == 'treatment' and landing_page != 'new_page') \"\n",
    "    \"or (group == 'control' and landing_page != 'old_page')\"\n",
    ")\n",
    "\n",
    "print(\"Number of mismatched rows:\", len(mismatched))\n",
    "\n",
    "# dropping mismatches\n",
    "df = df.drop(mismatched.index)\n",
    "\n",
    "# double-check that all combinations are now valid\n",
    "df.groupby('group')['landing_page'].value_counts()"
   ]
  },
  {
   "cell_type": "markdown",
   "id": "927a883a",
   "metadata": {},
   "source": [
    "# 3. Exploratory Data Analysis\n",
    "\n",
    "- Group & Conversion Overview\n",
    "- Quick Visualization\n",
    "- Check Random Assignment Balance\n",
    "- Optional Extra Peek"
   ]
  },
  {
   "cell_type": "code",
   "execution_count": 4,
   "id": "cb7bd2d0",
   "metadata": {},
   "outputs": [
    {
     "name": "stdout",
     "output_type": "stream",
     "text": [
      "Group sizes:\n",
      " group\n",
      "control      144319\n",
      "treatment    144316\n",
      "Name: count, dtype: int64 \n",
      "\n",
      "Conversion rates (%):\n",
      " group\n",
      "control      12.039302\n",
      "treatment    11.869786\n",
      "Name: converted, dtype: float64 \n",
      "\n"
     ]
    },
    {
     "data": {
      "text/html": [
       "<div>\n",
       "<style scoped>\n",
       "    .dataframe tbody tr th:only-of-type {\n",
       "        vertical-align: middle;\n",
       "    }\n",
       "\n",
       "    .dataframe tbody tr th {\n",
       "        vertical-align: top;\n",
       "    }\n",
       "\n",
       "    .dataframe thead th {\n",
       "        text-align: right;\n",
       "    }\n",
       "</style>\n",
       "<table border=\"1\" class=\"dataframe\">\n",
       "  <thead>\n",
       "    <tr style=\"text-align: right;\">\n",
       "      <th></th>\n",
       "      <th>Users</th>\n",
       "      <th>Converted (%)</th>\n",
       "    </tr>\n",
       "    <tr>\n",
       "      <th>group</th>\n",
       "      <th></th>\n",
       "      <th></th>\n",
       "    </tr>\n",
       "  </thead>\n",
       "  <tbody>\n",
       "    <tr>\n",
       "      <th>control</th>\n",
       "      <td>144319</td>\n",
       "      <td>12.04</td>\n",
       "    </tr>\n",
       "    <tr>\n",
       "      <th>treatment</th>\n",
       "      <td>144316</td>\n",
       "      <td>11.87</td>\n",
       "    </tr>\n",
       "  </tbody>\n",
       "</table>\n",
       "</div>"
      ],
      "text/plain": [
       "            Users  Converted (%)\n",
       "group                           \n",
       "control    144319          12.04\n",
       "treatment  144316          11.87"
      ]
     },
     "execution_count": 4,
     "metadata": {},
     "output_type": "execute_result"
    }
   ],
   "source": [
    "# group sizes\n",
    "group_counts = df['group'].value_counts()\n",
    "print(\"Group sizes:\\n\", group_counts, \"\\n\")\n",
    "\n",
    "# conversion rate by group\n",
    "conversion_rates = df.groupby('group')['converted'].mean() * 100\n",
    "print(\"Conversion rates (%):\\n\", conversion_rates, \"\\n\")\n",
    "\n",
    "# Summary DataFrame\n",
    "summary = pd.DataFrame({\n",
    "    'Users': df['group'].value_counts(),\n",
    "    'Converted (%)': df.groupby('group')['converted'].mean() * 100\n",
    "})\n",
    "summary['Converted (%)'] = summary['Converted (%)'].round(2)\n",
    "summary"
   ]
  },
  {
   "cell_type": "code",
   "execution_count": 5,
   "id": "4b1d0501",
   "metadata": {},
   "outputs": [
    {
     "data": {
      "image/png": "[encoded data removed]",
      "text/plain": [
       "<Figure size 600x400 with 1 Axes>"
      ]
     },
     "metadata": {},
     "output_type": "display_data"
    }
   ],
   "source": [
    "import matplotlib.pyplot as plt\n",
    "\n",
    "# Values\n",
    "groups = conversion_rates.index\n",
    "rates = conversion_rates.values\n",
    "\n",
    "plt.figure(figsize=(6,4), facecolor='white')\n",
    "\n",
    "bars = plt.bar(groups, rates, color=[\"#dbdbdb\", \"#fe77ce\"], width=0.6)\n",
    "\n",
    "# Title and labels (added more top padding)\n",
    "plt.title('Conversion Rate by Group', fontsize=14, weight='bold', pad=20)\n",
    "plt.ylabel('Conversion Rate (%)', fontsize=12)\n",
    "plt.xlabel('Group', fontsize=12)\n",
    "\n",
    "# Keep only left (y-axis) and bottom (x-axis) spines\n",
    "ax = plt.gca()\n",
    "ax.spines['top'].set_visible(False)\n",
    "ax.spines['right'].set_visible(False)\n",
    "\n",
    "# Format y-axis with % sign\n",
    "ax.yaxis.set_major_formatter(plt.FuncFormatter(lambda y, _: f'{y:.0f}%'))\n",
    "\n",
    "# Remove grid lines\n",
    "plt.grid(False)\n",
    "\n",
    "# Add labels on bars\n",
    "for bar in bars:\n",
    "    height = bar.get_height()\n",
    "    plt.text(\n",
    "        bar.get_x() + bar.get_width() / 2,\n",
    "        height + 0.25,\n",
    "        f'{height:.2f}%',\n",
    "        ha='center',\n",
    "        va='bottom',\n",
    "        fontsize=11\n",
    "    )\n",
    "\n",
    "plt.tight_layout()\n",
    "plt.show()\n"
   ]
  },
  {
   "cell_type": "code",
   "execution_count": 6,
   "id": "4306aeca",
   "metadata": {},
   "outputs": [
    {
     "name": "stdout",
     "output_type": "stream",
     "text": [
      "Sample size ratio (%):\n",
      " group\n",
      "control      50.0\n",
      "treatment    50.0\n",
      "Name: count, dtype: float64\n"
     ]
    }
   ],
   "source": [
    "# percentage split\n",
    "split_ratio = group_counts / group_counts.sum() * 100\n",
    "print(\"Sample size ratio (%):\\n\", split_ratio.round(2))"
   ]
  },
  {
   "cell_type": "code",
   "execution_count": 7,
   "id": "be4992e6",
   "metadata": {},
   "outputs": [
    {
     "data": {
      "text/plain": [
       "np.int64(0)"
      ]
     },
     "execution_count": 7,
     "metadata": {},
     "output_type": "execute_result"
    }
   ],
   "source": [
    "# optional extra peek\n",
    "df['converted'].value_counts(normalize=True) * 100\n",
    "df['converted'].isna().sum()"
   ]
  },
  {
   "cell_type": "markdown",
   "id": "1ff5dd9f",
   "metadata": {},
   "source": [
    "# 4. Statistical Testing (Two-Proportion Z-Test)\n",
    "\n",
    "We’re testing whether the conversion rate of the `treatment` group (`new_page`) is significantly different from that of the `control` group.\n",
    "\n",
    "- **H0 (null)** - The new page doesn’t change the conversion rate.\n",
    "- **H1 (alternativ)** - The new page does change the conversion rate (either up or down).\n",
    "\n",
    "We’ll test it using a **z-test** for proportions — a standard test when comparing two independent proportions (conversion rates).\n",
    "\n",
    "Then we compute the **p-value** from the z-statistic to see if it’s below our significance level *(typically 0.05)*."
   ]
  },
  {
   "cell_type": "code",
   "execution_count": 8,
   "id": "e24541c9",
   "metadata": {},
   "outputs": [
    {
     "name": "stdout",
     "output_type": "stream",
     "text": [
      "Z-statistic: -1.4036\n",
      "P-value: 0.1604\n"
     ]
    }
   ],
   "source": [
    "from statsmodels.stats.proportion import proportions_ztest\n",
    "\n",
    "# conversion counts\n",
    "control_converted = df.query(\"group == 'control'\")['converted'].sum()\n",
    "treatment_converted = df.query(\"group == 'treatment'\")['converted'].sum()\n",
    "\n",
    "# sample sizes\n",
    "n_control = df.query(\"group == 'control'\").shape[0]\n",
    "n_treatment = df.query(\"group == 'treatment'\").shape[0]\n",
    "\n",
    "# run two-proportion z-test\n",
    "count = np.array([treatment_converted, control_converted])\n",
    "nobs = np.array([n_treatment, n_control])\n",
    "\n",
    "stat, pval = proportions_ztest(count, nobs, alternative='two-sided')\n",
    "\n",
    "print(f\"Z-statistic: {stat:.4f}\")\n",
    "print(f\"P-value: {pval:.4f}\")"
   ]
  },
  {
   "cell_type": "markdown",
   "id": "845d5829",
   "metadata": {},
   "source": [
    "## Distribution of Conversions (Counts)"
   ]
  },
  {
   "cell_type": "code",
   "execution_count": 9,
   "id": "fc4abfb1",
   "metadata": {},
   "outputs": [
    {
     "data": {
      "image/png": "[encoded data removed]",
      "text/plain": [
       "<Figure size 600x400 with 1 Axes>"
      ]
     },
     "metadata": {},
     "output_type": "display_data"
    }
   ],
   "source": [
    "import seaborn as sns\n",
    "\n",
    "plt.figure(figsize=(6,4))\n",
    "sns.countplot(data=df, x='group', hue='converted', palette='Set2')\n",
    "plt.title('Conversion Counts by Group')\n",
    "plt.xlabel('Group')\n",
    "plt.ylabel('Number of Users')\n",
    "plt.legend(title='Converted', labels=['No', 'Yes'])\n",
    "plt.show()\n"
   ]
  },
  {
   "cell_type": "code",
   "execution_count": 10,
   "id": "b2746959",
   "metadata": {},
   "outputs": [
    {
     "data": {
      "image/png": "[encoded data removed]",
      "text/plain": [
       "<Figure size 600x400 with 1 Axes>"
      ]
     },
     "metadata": {},
     "output_type": "display_data"
    }
   ],
   "source": [
    "import matplotlib.pyplot as plt\n",
    "import seaborn as sns\n",
    "\n",
    "# Calculate conversion rates\n",
    "conv_rates = df.groupby('group')['converted'].mean().reset_index()\n",
    "\n",
    "# Plot\n",
    "plt.figure(figsize=(6,4))\n",
    "sns.barplot(data=conv_rates, x='group', y='converted',\n",
    "            hue='group',\n",
    "            legend=False, \n",
    "            palette='pastel')\n",
    "plt.title('Conversion Rate by Group')\n",
    "plt.ylabel('Conversion Rate')\n",
    "plt.xlabel('Group')\n",
    "plt.ylim(0, 1)\n",
    "for i, row in conv_rates.iterrows():\n",
    "    plt.text(i, row.converted + 0.01, f\"{row.converted:.3%}\", ha='center')\n",
    "plt.show()\n"
   ]
  },
  {
   "cell_type": "markdown",
   "id": "ffb7854e",
   "metadata": {},
   "source": [
    "# 5. Confidence Interval Plot (Visualizing Uncertainty)\n",
    "\n",
    "Once we’ve seen that control and treatment look close, the next step is to quantify how confident we are in that difference.\n",
    "\n",
    "We’ll calculate and visualize 95% confidence intervals for each group’s conversion rate — showing the overlap (which visually explains why p≈0.16 → not significant)."
   ]
  },
  {
   "cell_type": "code",
   "execution_count": 11,
   "id": "b6a4ec8d",
   "metadata": {},
   "outputs": [
    {
     "data": {
      "image/png": "[encoded data removed]",
      "text/plain": [
       "<Figure size 600x400 with 1 Axes>"
      ]
     },
     "metadata": {},
     "output_type": "display_data"
    }
   ],
   "source": [
    "import scipy.stats as st\n",
    "import matplotlib.pyplot as plt\n",
    "\n",
    "# Compute conversion rates and confidence intervals\n",
    "summary = df.groupby('group')['converted'].agg(['mean', 'count'])\n",
    "summary['std_err'] = np.sqrt(summary['mean'] * (1 - summary['mean']) / summary['count'])\n",
    "summary['ci_low'], summary['ci_high'] = st.norm.interval(\n",
    "    0.95, loc=summary['mean'], scale=summary['std_err']\n",
    ")\n",
    "\n",
    "# Plot\n",
    "plt.figure(figsize=(6,4))\n",
    "plt.errorbar(summary.index, summary['mean'], \n",
    "             yerr=summary['mean'] - summary['ci_low'], \n",
    "             fmt='o', color=\"#fe779b\", ecolor=\"#000000\", \n",
    "             elinewidth=3, capsize=10, markersize=13)\n",
    "plt.title('Conversion Rate with 95% Confidence Intervals')\n",
    "plt.ylabel('Conversion Rate')\n",
    "plt.ylim(0.10, 0.20)\n",
    "\n",
    "plt.xlim(-0.5, len(summary.index) - 0.5)\n",
    "\n",
    "for i, val in enumerate(summary['mean']):\n",
    "    plt.text(i, val + 0.01, f\"{val:.2%}\", ha='center')\n",
    "plt.show()\n"
   ]
  },
  {
   "cell_type": "markdown",
   "id": "7a265a21",
   "metadata": {},
   "source": [
    "# 6. Lift Analysis (Business Impact)\n",
    "\n",
    "It shows how much better or worse the treatment performed relative to the control (in percent)."
   ]
  },
  {
   "cell_type": "code",
   "execution_count": 12,
   "id": "02b1826a",
   "metadata": {},
   "outputs": [
    {
     "name": "stdout",
     "output_type": "stream",
     "text": [
      "Lift: -1.41%\n"
     ]
    },
    {
     "data": {
      "image/png": "[encoded data removed]",
      "text/plain": [
       "<Figure size 400x400 with 1 Axes>"
      ]
     },
     "metadata": {},
     "output_type": "display_data"
    }
   ],
   "source": [
    "# Calculate conversion rates\n",
    "conv_control = summary.loc['control', 'mean']\n",
    "conv_treatment = summary.loc['treatment', 'mean']\n",
    "\n",
    "# Calculate lift\n",
    "lift = (conv_treatment - conv_control) / conv_control * 100\n",
    "print(f\"Lift: {lift:.2f}%\")\n",
    "\n",
    "# Visualize it\n",
    "plt.figure(figsize=(4,4))\n",
    "plt.bar(['Lift'], [lift], color='#fe779b')\n",
    "plt.axhline(0, color='#dbdbdb', linestyle='--')\n",
    "plt.ylabel('Lift (%)')\n",
    "plt.title('Relative Improvement (Treatment vs Control)')\n",
    "plt.text(0, lift + 0.3, f\"{lift:.2f}%\", ha='center')\n",
    "plt.show()\n"
   ]
  },
  {
   "cell_type": "markdown",
   "id": "23a452fc",
   "metadata": {},
   "source": [
    "## Interpretation\n",
    "\n",
    "Lift shows **−1.41%**, that means:\n",
    "\n",
    "    The new (treatment) landing page **converted about 1.41% fewer users than the original** (control).\n",
    "\n",
    "**However,** since your p-value = 0.16, that **difference isn’t statistically significant** — meaning it could easily be random variation."
   ]
  },
  {
   "cell_type": "markdown",
   "id": "6f986f11",
   "metadata": {},
   "source": [
    "# 7. Project Summary\n",
    "\n"
   ]
  }
 ],
 "metadata": {
  "kernelspec": {
   "display_name": "python_course",
   "language": "python",
   "name": "python3"
  },
  "language_info": {
   "codemirror_mode": {
    "name": "ipython",
    "version": 3
   },
   "file_extension": ".py",
   "mimetype": "text/x-python",
   "name": "python",
   "nbconvert_exporter": "python",
   "pygments_lexer": "ipython3",
   "version": "3.13.5"
  }
 },
 "nbformat": 4,
 "nbformat_minor": 5
}
